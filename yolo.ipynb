{
 "cells": [
  {
   "cell_type": "code",
   "execution_count": 3,
   "metadata": {},
   "outputs": [],
   "source": [
    "#Carregando A Biblioteca\n",
    "import cv2"
   ]
  },
  {
   "cell_type": "code",
   "execution_count": 4,
   "metadata": {},
   "outputs": [],
   "source": [
    "#CORES DAS CLASSES\n",
    "COLORS = [(0, 255, 255), (255, 255, 0), (0, 255,  0), (255, 0, 0)]"
   ]
  },
  {
   "cell_type": "code",
   "execution_count": 5,
   "metadata": {},
   "outputs": [],
   "source": [
    "#CARREGANDO AS CLASSES\n",
    "class_names = []\n",
    "with open(\"coco.names\", \"r\") as f:\n",
    "    class_names = [cname.strip() for cname in f.readlines()]"
   ]
  },
  {
   "cell_type": "code",
   "execution_count": 6,
   "metadata": {},
   "outputs": [],
   "source": [
    "#CARREGANDO OS PESOS DA REDE NEURAL\n",
    "net = cv2.dnn.readNet(\"yolov4-tiny.weights\", \"yolov4-tiny.cfg\")"
   ]
  },
  {
   "cell_type": "code",
   "execution_count": 7,
   "metadata": {},
   "outputs": [],
   "source": [
    "#SETANDO OS PARAMETROS DA REDE NEURAL\n",
    "model = cv2.dnn_DetectionModel(net) \n",
    "model.setInputParams(size=(416, 416), scale=1/255)"
   ]
  },
  {
   "cell_type": "markdown",
   "metadata": {},
   "source": [
    "Captura de vídeo"
   ]
  },
  {
   "cell_type": "code",
   "execution_count": 8,
   "metadata": {},
   "outputs": [],
   "source": [
    "cap = cv2.VideoCapture(\"VIDEO1.mp4\") #se quiser utilizar a webcam, colocar somente o número zero\n",
    "\n",
    "while True:\n",
    "    \n",
    "    _, frame = cap.read()\n",
    "\n",
    "    #DETECÇÃO\n",
    "    classes , scores , boxes = model.detect(frame, 0.1, 0.2)\n",
    "\n",
    "    #PERCORRER TODAS AS DETECÇÕES\n",
    "    for(classid, score, box) in zip(classes, scores, boxes):\n",
    "        \n",
    "        color = COLORS[int(classid) % len(COLORS)]\n",
    "\n",
    "        #PEGANDO O NOME DA CLASSE PELO ID E O SEU SCORE DE ACURACIA\n",
    "        label = f'{class_names[classid]} : {score}'\n",
    "\n",
    "        #DESENHANDO A BOX DE DETECÇÃO\n",
    "        cv2.rectangle(frame, box, color, 2)\n",
    "\n",
    "        #ESCREVENDO O NOME DA CLASSE EM CIMA DA BOX DO OBJETO\n",
    "        cv2.putText(frame,label, (box[0],box[1] - 10), cv2.FONT_HERSHEY_SIMPLEX, 0.5, color, 2)\n",
    "\n",
    "    #MOSTRANDO A IMAGEM\n",
    "    cv2.imshow(\"detections\", frame)\n",
    "\n",
    "    #ESPERA DA RESPOSTA\n",
    "    if cv2.waitKey(2) & 0xFF == ord('q'):\n",
    "        break\n",
    "#LIBERAÇÃO DA CAMERA E DESTROI TDOAS AS JANELAS\n",
    "cap.release()\n",
    "cv2.destroyAllWindows()\n"
   ]
  }
 ],
 "metadata": {
  "kernelspec": {
   "display_name": "Python 3.7.3 64-bit",
   "language": "python",
   "name": "python3"
  },
  "language_info": {
   "codemirror_mode": {
    "name": "ipython",
    "version": 3
   },
   "file_extension": ".py",
   "mimetype": "text/x-python",
   "name": "python",
   "nbconvert_exporter": "python",
   "pygments_lexer": "ipython3",
   "version": "3.7.3"
  },
  "orig_nbformat": 4,
  "vscode": {
   "interpreter": {
    "hash": "868cd911519854737f89bc2dcef660455f6fbe4c2bd10a93cbe110988bedb138"
   }
  }
 },
 "nbformat": 4,
 "nbformat_minor": 2
}
